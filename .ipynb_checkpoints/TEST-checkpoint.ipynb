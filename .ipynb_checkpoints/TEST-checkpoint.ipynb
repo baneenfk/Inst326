{
 "cells": [
  {
   "cell_type": "code",
   "execution_count": 11,
   "id": "economic-gregory",
   "metadata": {},
   "outputs": [],
   "source": [
    "import pandas as pd"
   ]
  },
  {
   "cell_type": "code",
   "execution_count": 12,
   "id": "hindu-arthur",
   "metadata": {},
   "outputs": [],
   "source": [
    "\n",
    "         "
   ]
  },
  {
   "cell_type": "code",
   "execution_count": 27,
   "id": "illegal-architecture",
   "metadata": {},
   "outputs": [],
   "source": [
    "class credit_card_info(): \n",
    "    def __init__(self,file):\n",
    "        file = 'fraudTest1.csv'\n",
    "        self.df = df = pd.read_csv(file)\n",
    "        self.df2 = self.df[[\"trans_date_trans_time\", \"first\", \"last\", \"amt\"]]\n",
    "        print(self.df2)"
   ]
  },
  {
   "cell_type": "code",
   "execution_count": null,
   "id": "improving-society",
   "metadata": {},
   "outputs": [],
   "source": []
  },
  {
   "cell_type": "code",
   "execution_count": null,
   "id": "dense-berkeley",
   "metadata": {},
   "outputs": [],
   "source": []
  },
  {
   "cell_type": "code",
   "execution_count": 29,
   "id": "african-gauge",
   "metadata": {},
   "outputs": [
    {
     "name": "stdout",
     "output_type": "stream",
     "text": [
      "      trans_date_trans_time   first      last    amt\n",
      "0           6/21/2020 12:14    Jeff   Elliott   2.86\n",
      "1           6/21/2020 12:14  Joanne  Williams  29.84\n",
      "2           6/21/2020 12:14  Ashley     Lopez  41.28\n",
      "3           6/21/2020 12:15   Brian  Williams  60.05\n",
      "4           6/21/2020 12:15  Nathan    Massey   3.19\n",
      "...                     ...     ...       ...    ...\n",
      "69377                   NaN     NaN       NaN    NaN\n",
      "69378                   NaN     NaN       NaN    NaN\n",
      "69379                   NaN     NaN       NaN    NaN\n",
      "69380                   NaN     NaN       NaN    NaN\n",
      "69381                   NaN     NaN       NaN    NaN\n",
      "\n",
      "[69382 rows x 4 columns]\n"
     ]
    }
   ],
   "source": [
    "file = 'fraudTest1.csv'\n",
    "df = df = pd.read_csv(file)\n",
    "df2 = df[[\"trans_date_trans_time\", \"first\", \"last\", \"amt\"]]\n",
    "print(df2)"
   ]
  },
  {
   "cell_type": "code",
   "execution_count": 33,
   "id": "corrected-trade",
   "metadata": {},
   "outputs": [
    {
     "name": "stderr",
     "output_type": "stream",
     "text": [
      "IOPub data rate exceeded.\n",
      "The Jupyter server will temporarily stop sending output\n",
      "to the client in order to avoid crashing it.\n",
      "To change this limit, set the config variable\n",
      "`--ServerApp.iopub_data_rate_limit`.\n",
      "\n",
      "Current values:\n",
      "ServerApp.iopub_data_rate_limit=1000000.0 (bytes/sec)\n",
      "ServerApp.rate_limit_window=3.0 (secs)\n",
      "\n"
     ]
    }
   ],
   "source": [
    "d = df.to_dict()\n",
    "print(d)"
   ]
  },
  {
   "cell_type": "code",
   "execution_count": null,
   "id": "acute-beaver",
   "metadata": {},
   "outputs": [],
   "source": []
  }
 ],
 "metadata": {
  "kernelspec": {
   "display_name": "Python 3",
   "language": "python",
   "name": "python3"
  },
  "language_info": {
   "codemirror_mode": {
    "name": "ipython",
    "version": 3
   },
   "file_extension": ".py",
   "mimetype": "text/x-python",
   "name": "python",
   "nbconvert_exporter": "python",
   "pygments_lexer": "ipython3",
   "version": "3.9.1"
  }
 },
 "nbformat": 4,
 "nbformat_minor": 5
}
