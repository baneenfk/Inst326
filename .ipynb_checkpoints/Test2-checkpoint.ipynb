{
 "cells": [
  {
   "cell_type": "code",
   "execution_count": null,
   "id": "defined-trick",
   "metadata": {},
   "outputs": [],
   "source": [
    "    def __init__(self,file):\n",
    "        \"\"\" The method exctarcts the databse as a DataFrame. Then creates a new \n",
    "            DataFrame with only the columns required.\n",
    "            Args:\n",
    "                file(csv file): The database of credit card transactions.\n",
    "        \"\"\"\n",
    "        file = pd.read_csv('fraudTest1.csv')\n",
    "        df = pd.dataframe(file)\n",
    "        cols = [2,3,4,5,6]\n",
    "        df = df[df.columns[cols]]"
   ]
  },
  {
   "cell_type": "code",
   "execution_count": null,
   "id": "vulnerable-senegal",
   "metadata": {},
   "outputs": [],
   "source": []
  }
 ],
 "metadata": {
  "kernelspec": {
   "display_name": "Python 3",
   "language": "python",
   "name": "python3"
  },
  "language_info": {
   "codemirror_mode": {
    "name": "ipython",
    "version": 3
   },
   "file_extension": ".py",
   "mimetype": "text/x-python",
   "name": "python",
   "nbconvert_exporter": "python",
   "pygments_lexer": "ipython3",
   "version": "3.9.1"
  }
 },
 "nbformat": 4,
 "nbformat_minor": 5
}
