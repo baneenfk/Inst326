{
 "cells": [
  {
   "cell_type": "code",
   "execution_count": null,
   "id": "packed-piece",
   "metadata": {},
   "outputs": [],
   "source": [
    "    def __init__(self,file):\n",
    "        \"\"\" The method exctarcts the databse as a DataFrame. Then creates a new \n",
    "            DataFrame with only the columns required.\n",
    "            Args:\n",
    "                file(csv file): The database of credit card transactions.\n",
    "        \"\"\"\n",
    "        file = pd.read_csv('fraudTest1.csv')\n",
    "        df = pd.dataframe(file)\n",
    "        cols = [2,3,4,5,6]\n",
    "        df = df[df.columns[cols]]"
   ]
  },
  {
   "cell_type": "code",
   "execution_count": null,
   "id": "pacific-canal",
   "metadata": {},
   "outputs": [],
   "source": [
    "        #first_filter = self.df2['first'] == first_name\n",
    "        #last_filter = self.df2['last'] == last_name\n",
    "        #combo_filter = first_filter & last_filter\n",
    "        #test1 = self.df2.loc[first_name]\n",
    "        \"\"\"if first_name not in test1 and last_name not in test2:\n",
    "            #raise KeyError('Name not in List')\n",
    "        else:\n",
    "            first_filter = self.df2['first'] == first_name\n",
    "            last_filter = self.df2['last'] == last_name\n",
    "            combo_filter = first_filter & last_filter\n",
    "            self.first_last = self.df2[combo_filter]\n",
    "            print(f'Charges {self.first_last}')\n",
    "        \"\"\""
   ]
  }
 ],
 "metadata": {
  "kernelspec": {
   "display_name": "Python 3",
   "language": "python",
   "name": "python3"
  },
  "language_info": {
   "codemirror_mode": {
    "name": "ipython",
    "version": 3
   },
   "file_extension": ".py",
   "mimetype": "text/x-python",
   "name": "python",
   "nbconvert_exporter": "python",
   "pygments_lexer": "ipython3",
   "version": "3.9.1"
  }
 },
 "nbformat": 4,
 "nbformat_minor": 5
}
